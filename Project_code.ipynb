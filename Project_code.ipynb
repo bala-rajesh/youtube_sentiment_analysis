import pandas as pd
import numpy as np
import matplotlib.pyplot as plt
import seaborn as sns
import plotly.express as px
plt.style.use('fivethirtyeight')
  
comments=pd.read_csv('/content/GBcomments.csv',error_bad_lines=False)

  
comments.head()

  
from textblob import TextBlob
TextBlob('Its more accurate to call it the M+ (1000) be..').sentiment.polarity
  
comments.isna().sum()

  
comments.dropna(inplace=True)

  
polarity=[] # list which will contain the polarity of the comments
for i in comments['comment_text']:
    polarity.append(TextBlob(i).sentiment.polarity

comments['polarity']=polarity

comments.head(10)


comments_positive.shape

from wordcloud import WordCloud,STOPWORDS
stopwords=set(STOPWORDS)
total_comments=' '.join(comments_positive['comment_text'])
wordcloud=WordCloud(width=1000,height=500,stopwords=stopwords).generate(total_comments)
plt.figure(figsize=(12,8))
plt.imshow(wordcloud)
plt.axis('off')


comments_negative=comments[comments['polarity']==-1]

comments_negative.shape

comments_negative.head()

total_comments=' '.join(comments_negative['comment_text'])

wordcloud=WordCloud(width=1000,height=500,stopwords=stopwords).generate(total_comments)

plt.figure(figsize=(12,8))
plt.imshow(wordcloud)
plt.axis('off')

deos=pd.read_csv('/content/USvideos.csv',error_bad_lines=False)

videos.head()

tags_complete=' '.join(videos['tags'])

tags_complete

import re
tags=re.sub('[^a-zA-Z]',' ',tags_complete)
tags

tags=re.sub(' +',' ',tags)

wordcloud=WordCloud(width=1000,height=500,stopwords=set(STOPWORDS)).generate(tags)

plt.figure(figsize=(12,8))
plt.imshow(wordcloud)
plt.axis('off')


plt.figure(figsize=(12,8))
sns.regplot(data=videos,x='views',y='likes')
plt.title('Regression plot for views & likes')


plt.figure(figsize=(12,8))
sns.regplot(data=videos,x='views',y='dislikes')
plt.title('Regression plot for views & dislikes')

plt.figure(figsize=(12,8))
sns.regplot(data=videos,x='views',y='dislikes')
plt.title('Regression plot for views & dislikes')


df_corr.corr()

sns.heatmap(df_corr.corr(),center = True , annot=True,cmap="RdYlBu")
